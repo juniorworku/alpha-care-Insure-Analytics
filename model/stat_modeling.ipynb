{
 "cells": [
  {
   "cell_type": "code",
   "execution_count": 1,
   "metadata": {},
   "outputs": [],
   "source": [
    "#Step 1: Data Preparation\n",
    "#1.1 Handling Missing Data\n",
    "\n",
    "import pandas as pd\n",
    "import numpy as np\n",
    "from sklearn.model_selection import train_test_split\n",
    "from sklearn.preprocessing import OneHotEncoder, StandardScaler\n",
    "from sklearn.impute import SimpleImputer\n",
    "\n",
    "# Load the data\n",
    "data = pd.read_csv('../data/MachineLearningRating_v3.txt', sep='|', low_memory=False)\n",
    "\n",
    "\n",
    "# Handling Missing Data\n",
    "imputer = SimpleImputer(strategy='mean')\n",
    "data['TotalPremium'] = imputer.fit_transform(data[['TotalPremium']])\n",
    "data['TotalClaims'] = imputer.fit_transform(data[['TotalClaims']])\n",
    "\n",
    "# Drop rows with missing values in categorical columns\n",
    "data.dropna(subset=['Province', 'PostalCode', 'Gender'], inplace=True)\n"
   ]
  },
  {
   "cell_type": "code",
   "execution_count": 2,
   "metadata": {},
   "outputs": [
    {
     "name": "stderr",
     "output_type": "stream",
     "text": [
      "/tmp/ipykernel_40743/3030855.py:12: FutureWarning: A value is trying to be set on a copy of a DataFrame or Series through chained assignment using an inplace method.\n",
      "The behavior will change in pandas 3.0. This inplace method will never work because the intermediate object on which we are setting values always behaves as a copy.\n",
      "\n",
      "For example, when doing 'df[col].method(value, inplace=True)', try using 'df.method({col: value}, inplace=True)' or df[col] = df[col].method(value) instead, to perform the operation inplace on the original object.\n",
      "\n",
      "\n",
      "  data['ClaimsRatio'].replace([np.inf, -np.inf], 0, inplace=True)\n",
      "/tmp/ipykernel_40743/3030855.py:13: FutureWarning: A value is trying to be set on a copy of a DataFrame or Series through chained assignment using an inplace method.\n",
      "The behavior will change in pandas 3.0. This inplace method will never work because the intermediate object on which we are setting values always behaves as a copy.\n",
      "\n",
      "For example, when doing 'df[col].method(value, inplace=True)', try using 'df.method({col: value}, inplace=True)' or df[col] = df[col].method(value) instead, to perform the operation inplace on the original object.\n",
      "\n",
      "\n",
      "  data['ClaimsRatio'].fillna(0, inplace=True)\n"
     ]
    }
   ],
   "source": [
    "#1.2 Feature Engineering\n",
    "# Convert TransactionMonth to datetime and extract relevant features\n",
    "data['TransactionMonth'] = pd.to_datetime(data['TransactionMonth'], errors='coerce')\n",
    "data['TransactionYear'] = data['TransactionMonth'].dt.year\n",
    "data['TransactionMonth'] = data['TransactionMonth'].dt.month\n",
    "\n",
    "# Feature Engineering: Example - Creating a new feature for vehicle age\n",
    "data['VehicleAge'] = 2024 - data['RegistrationYear']\n",
    "\n",
    "# Example - Creating a new feature for total claims ratio\n",
    "data['ClaimsRatio'] = data['TotalClaims'] / data['TotalPremium']\n",
    "data['ClaimsRatio'].replace([np.inf, -np.inf], 0, inplace=True)\n",
    "data['ClaimsRatio'].fillna(0, inplace=True)\n",
    "\n"
   ]
  },
  {
   "cell_type": "code",
   "execution_count": 3,
   "metadata": {},
   "outputs": [],
   "source": [
    "#1.3 Encoding Categorical Data\n",
    "# Encoding Categorical Data\n",
    "categorical_features = ['Province', 'PostalCode', 'Gender', 'VehicleType', 'CoverType']\n",
    "\n",
    "# One-hot encoding\n",
    "data = pd.get_dummies(data, columns=categorical_features, drop_first=True)\n",
    "\n"
   ]
  },
  {
   "cell_type": "code",
   "execution_count": 4,
   "metadata": {},
   "outputs": [],
   "source": [
    "#1.4 Handling Non-Numeric Values\n",
    "# Ensure all columns are numeric and handle non-numeric values\n",
    "data = data.apply(pd.to_numeric, errors='coerce').fillna(0)\n"
   ]
  },
  {
   "cell_type": "code",
   "execution_count": null,
   "metadata": {},
   "outputs": [],
   "source": [
    "#1.4 Train-Test Split\n",
    "# Drop irrelevant or non-numeric columns before splitting\n",
    "data.drop(['UnderwrittenCoverID', 'PolicyID', 'Country', 'MainCrestaZone', 'SubCrestaZone',\n",
    "           'make', 'Model', 'bodytype', 'Title', 'Language', 'Bank', 'AccountType', 'LegalType', 'MaritalStatus'], axis=1, inplace=True)\n",
    "\n",
    "# Train-Test Split\n",
    "X = data.drop(['TotalPremium', 'TotalClaims'], axis=1)\n",
    "y = data['TotalPremium']\n",
    "X_train, X_test, y_train, y_test = train_test_split(X, y, test_size=0.3, random_state=42)\n",
    "\n",
    "# Feature Scaling\n",
    "scaler = StandardScaler()\n",
    "X_train = scaler.fit_transform(X_train)\n",
    "X_test = scaler.transform(X_test)"
   ]
  },
  {
   "cell_type": "code",
   "execution_count": null,
   "metadata": {},
   "outputs": [],
   "source": [
    "#Step 2: Modeling Techniques\n",
    "#2.1 Linear Regression\n",
    "\n",
    "from sklearn.linear_model import LinearRegression\n",
    "from sklearn.metrics import mean_squared_error, r2_score\n",
    "\n",
    "# Linear Regression Model\n",
    "lr_model = LinearRegression()\n",
    "lr_model.fit(X_train, y_train)\n",
    "y_pred_lr = lr_model.predict(X_test)\n",
    "\n",
    "# Evaluation\n",
    "mse_lr = mean_squared_error(y_test, y_pred_lr)\n",
    "r2_lr = r2_score(y_test, y_pred_lr)\n",
    "print(f\"Linear Regression - MSE: {mse_lr}, R2: {r2_lr}\")\n"
   ]
  },
  {
   "cell_type": "code",
   "execution_count": null,
   "metadata": {},
   "outputs": [],
   "source": [
    "#2.2 Random Forest\n",
    "from sklearn.ensemble import RandomForestRegressor\n",
    "\n",
    "# Random Forest Model\n",
    "rf_model = RandomForestRegressor(n_estimators=100, random_state=42)\n",
    "rf_model.fit(X_train, y_train)\n",
    "y_pred_rf = rf_model.predict(X_test)\n",
    "\n",
    "# Evaluation\n",
    "mse_rf = mean_squared_error(y_test, y_pred_rf)\n",
    "r2_rf = r2_score(y_test, y_pred_rf)\n",
    "print(f\"Random Forest - MSE: {mse_rf}, R2: {r2_rf}\")\n"
   ]
  },
  {
   "cell_type": "code",
   "execution_count": null,
   "metadata": {},
   "outputs": [],
   "source": [
    "#2.3 XGBoost\n",
    "import xgboost as xgb\n",
    "\n",
    "# XGBoost Model\n",
    "xgb_model = xgb.XGBRegressor(objective='reg:squarederror', n_estimators=100, random_state=42)\n",
    "xgb_model.fit(X_train, y_train)\n",
    "y_pred_xgb = xgb_model.predict(X_test)\n",
    "\n",
    "# Evaluation\n",
    "mse_xgb = mean_squared_error(y_test, y_pred_xgb)\n",
    "r2_xgb = r2_score(y_test, y_pred_xgb)\n",
    "print(f\"XGBoost - MSE: {mse_xgb}, R2: {r2_xgb}\")\n"
   ]
  },
  {
   "cell_type": "code",
   "execution_count": null,
   "metadata": {},
   "outputs": [],
   "source": [
    "#Step 3: Feature Importance Analysis\n",
    "# Feature Importance for Random Forest\n",
    "importances_rf = rf_model.feature_importances_\n",
    "feature_names = X.columns\n",
    "feature_importances_rf = pd.Series(importances_rf, index=feature_names).sort_values(ascending=False)\n",
    "\n",
    "print(\"Feature Importances for Random Forest:\")\n",
    "print(feature_importances_rf)\n",
    "\n",
    "# Feature Importance for XGBoost\n",
    "importances_xgb = xgb_model.feature_importances_\n",
    "feature_importances_xgb = pd.Series(importances_xgb, index=feature_names).sort_values(ascending=False)\n",
    "\n",
    "print(\"Feature Importances for XGBoost:\")\n",
    "print(feature_importances_xgb)\n"
   ]
  },
  {
   "cell_type": "code",
   "execution_count": null,
   "metadata": {},
   "outputs": [],
   "source": [
    "#Step 4: Model Evaluation and Comparison\n",
    "# Comparison of model performance\n",
    "results = pd.DataFrame({\n",
    "    'Model': ['Linear Regression', 'Random Forest', 'XGBoost'],\n",
    "    'MSE': [mse_lr, mse_rf, mse_xgb],\n",
    "    'R2': [r2_lr, r2_rf, r2_xgb]\n",
    "})\n",
    "\n",
    "print(\"Model Comparison:\")\n",
    "print(results)\n"
   ]
  }
 ],
 "metadata": {
  "kernelspec": {
   "display_name": "venv",
   "language": "python",
   "name": "python3"
  },
  "language_info": {
   "codemirror_mode": {
    "name": "ipython",
    "version": 3
   },
   "file_extension": ".py",
   "mimetype": "text/x-python",
   "name": "python",
   "nbconvert_exporter": "python",
   "pygments_lexer": "ipython3",
   "version": "3.11.5"
  }
 },
 "nbformat": 4,
 "nbformat_minor": 2
}

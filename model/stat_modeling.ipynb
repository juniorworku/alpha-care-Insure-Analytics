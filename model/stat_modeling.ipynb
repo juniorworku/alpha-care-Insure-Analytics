{
 "cells": [
  {
   "cell_type": "code",
   "execution_count": 1,
   "metadata": {},
   "outputs": [],
   "source": [
    "#Step 1: Data Preparation\n",
    "#1.1 Handling Missing Data\n",
    "\n",
    "import pandas as pd\n",
    "import numpy as np\n",
    "from sklearn.model_selection import train_test_split\n",
    "from sklearn.preprocessing import OneHotEncoder, StandardScaler\n",
    "from sklearn.impute import SimpleImputer\n",
    "\n",
    "# Load the data\n",
    "data = pd.read_csv('../data/MachineLearningRating_v3.txt', sep='|', low_memory=False)\n",
    "\n",
    "\n",
    "# Handling Missing Data\n",
    "imputer = SimpleImputer(strategy='mean')\n",
    "data['TotalPremium'] = imputer.fit_transform(data[['TotalPremium']])\n",
    "data['TotalClaims'] = imputer.fit_transform(data[['TotalClaims']])\n",
    "\n",
    "# Drop rows with missing values in categorical columns\n",
    "data.dropna(subset=['Province', 'PostalCode', 'Gender'], inplace=True)\n"
   ]
  },
  {
   "cell_type": "code",
   "execution_count": 2,
   "metadata": {},
   "outputs": [
    {
     "name": "stderr",
     "output_type": "stream",
     "text": [
      "/tmp/ipykernel_40743/3030855.py:12: FutureWarning: A value is trying to be set on a copy of a DataFrame or Series through chained assignment using an inplace method.\n",
      "The behavior will change in pandas 3.0. This inplace method will never work because the intermediate object on which we are setting values always behaves as a copy.\n",
      "\n",
      "For example, when doing 'df[col].method(value, inplace=True)', try using 'df.method({col: value}, inplace=True)' or df[col] = df[col].method(value) instead, to perform the operation inplace on the original object.\n",
      "\n",
      "\n",
      "  data['ClaimsRatio'].replace([np.inf, -np.inf], 0, inplace=True)\n",
      "/tmp/ipykernel_40743/3030855.py:13: FutureWarning: A value is trying to be set on a copy of a DataFrame or Series through chained assignment using an inplace method.\n",
      "The behavior will change in pandas 3.0. This inplace method will never work because the intermediate object on which we are setting values always behaves as a copy.\n",
      "\n",
      "For example, when doing 'df[col].method(value, inplace=True)', try using 'df.method({col: value}, inplace=True)' or df[col] = df[col].method(value) instead, to perform the operation inplace on the original object.\n",
      "\n",
      "\n",
      "  data['ClaimsRatio'].fillna(0, inplace=True)\n"
     ]
    }
   ],
   "source": [
    "#1.2 Feature Engineering\n",
    "# Convert TransactionMonth to datetime and extract relevant features\n",
    "data['TransactionMonth'] = pd.to_datetime(data['TransactionMonth'], errors='coerce')\n",
    "data['TransactionYear'] = data['TransactionMonth'].dt.year\n",
    "data['TransactionMonth'] = data['TransactionMonth'].dt.month\n",
    "\n",
    "# Feature Engineering: Example - Creating a new feature for vehicle age\n",
    "data['VehicleAge'] = 2024 - data['RegistrationYear']\n",
    "\n",
    "# Example - Creating a new feature for total claims ratio\n",
    "data['ClaimsRatio'] = data['TotalClaims'] / data['TotalPremium']\n",
    "data['ClaimsRatio'].replace([np.inf, -np.inf], 0, inplace=True)\n",
    "data['ClaimsRatio'].fillna(0, inplace=True)\n",
    "\n"
   ]
  },
  {
   "cell_type": "code",
   "execution_count": 3,
   "metadata": {},
   "outputs": [],
   "source": [
    "#1.3 Encoding Categorical Data\n",
    "# Encoding Categorical Data\n",
    "categorical_features = ['Province', 'PostalCode', 'Gender', 'VehicleType', 'CoverType']\n",
    "\n",
    "# One-hot encoding\n",
    "data = pd.get_dummies(data, columns=categorical_features, drop_first=True)\n",
    "\n"
   ]
  },
  {
   "cell_type": "code",
   "execution_count": 4,
   "metadata": {},
   "outputs": [],
   "source": [
    "#1.4 Handling Non-Numeric Values\n",
    "# Ensure all columns are numeric and handle non-numeric values\n",
    "data = data.apply(pd.to_numeric, errors='coerce').fillna(0)\n"
   ]
  },
  {
   "cell_type": "code",
   "execution_count": null,
   "metadata": {},
   "outputs": [],
   "source": [
    "#1.4 Train-Test Split\n",
    "# Drop irrelevant or non-numeric columns before splitting\n",
    "data.drop(['UnderwrittenCoverID', 'PolicyID', 'Country', 'MainCrestaZone', 'SubCrestaZone',\n",
    "           'make', 'Model', 'bodytype', 'Title', 'Language', 'Bank', 'AccountType', 'LegalType', 'MaritalStatus'], axis=1, inplace=True)\n",
    "\n",
    "# Train-Test Split\n",
    "X = data.drop(['TotalPremium', 'TotalClaims'], axis=1)\n",
    "y = data['TotalPremium']\n",
    "X_train, X_test, y_train, y_test = train_test_split(X, y, test_size=0.3, random_state=42)\n",
    "\n",
    "# Feature Scaling\n",
    "scaler = StandardScaler()\n",
    "X_train = scaler.fit_transform(X_train)\n",
    "X_test = scaler.transform(X_test)"
   ]
  },
  {
   "cell_type": "code",
   "execution_count": null,
   "metadata": {},
   "outputs": [],
   "source": [
    "#"
   ]
  }
 ],
 "metadata": {
  "kernelspec": {
   "display_name": "venv",
   "language": "python",
   "name": "python3"
  },
  "language_info": {
   "codemirror_mode": {
    "name": "ipython",
    "version": 3
   },
   "file_extension": ".py",
   "mimetype": "text/x-python",
   "name": "python",
   "nbconvert_exporter": "python",
   "pygments_lexer": "ipython3",
   "version": "3.11.5"
  }
 },
 "nbformat": 4,
 "nbformat_minor": 2
}

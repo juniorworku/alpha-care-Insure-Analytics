{
 "cells": [
  {
   "cell_type": "code",
   "execution_count": 1,
   "metadata": {},
   "outputs": [],
   "source": [
    "#Step 1: Data Preparation\n",
    "#1.1 Handling Missing Data\n",
    "\n",
    "import pandas as pd\n",
    "import numpy as np\n",
    "from sklearn.model_selection import train_test_split\n",
    "from sklearn.preprocessing import OneHotEncoder, StandardScaler\n",
    "from sklearn.impute import SimpleImputer\n"
   ]
  },
  {
   "cell_type": "code",
   "execution_count": 2,
   "metadata": {},
   "outputs": [],
   "source": [
    "# Load the data\n",
    "data = pd.read_csv('../data/MachineLearningRating_v3.txt', sep='|', engine='python')"
   ]
  },
  {
   "cell_type": "code",
   "execution_count": 3,
   "metadata": {},
   "outputs": [],
   "source": [
    "# Convert data types to more memory-efficient formats\n",
    "for col in data.select_dtypes(include=['float64']).columns:\n",
    "    data[col] = pd.to_numeric(data[col], downcast='float')\n",
    "\n",
    "for col in data.select_dtypes(include=['int64']).columns:\n",
    "    data[col] = pd.to_numeric(data[col], downcast='integer')"
   ]
  },
  {
   "cell_type": "code",
   "execution_count": 4,
   "metadata": {},
   "outputs": [],
   "source": [
    "#1.2 Feature Engineering\n",
    "# Convert TransactionMonth to datetime and extract relevant features\n",
    "data['TransactionMonth'] = pd.to_datetime(data['TransactionMonth'], errors='coerce')\n",
    "data['TransactionYear'] = data['TransactionMonth'].dt.year\n",
    "data['TransactionMonth'] = data['TransactionMonth'].dt.month\n",
    "\n",
    "# Feature Engineering\n",
    "data['VehicleAge'] = 2024 - data['RegistrationYear']\n",
    "data['ProfitMarginRatio'] = data['TotalPremium'] - data['TotalClaims']\n",
    "data['ProfitMarginRatio'] = data['ProfitMarginRatio'].replace([np.inf, -np.inf], 0)\n",
    "data['ProfitMarginRatio'] = data['ProfitMarginRatio'].fillna(0)\n"
   ]
  },
  {
   "cell_type": "code",
   "execution_count": 5,
   "metadata": {},
   "outputs": [],
   "source": [
    "\n",
    "# Handling Missing Data\n",
    "imputer = SimpleImputer(strategy='mean')\n",
    "data['TotalPremium'] = imputer.fit_transform(data[['TotalPremium']])\n",
    "data['TotalClaims'] = imputer.fit_transform(data[['TotalClaims']])\n",
    "\n",
    "# Drop rows with missing values in categorical columns\n",
    "data.dropna(subset=['Province', 'PostalCode', 'Gender'], inplace=True)"
   ]
  },
  {
   "cell_type": "code",
   "execution_count": 6,
   "metadata": {},
   "outputs": [],
   "source": [
    "# Drop irrelevant or non-numeric columns before encoding\n",
    "data.drop(['UnderwrittenCoverID', 'PolicyID', 'Country', 'MainCrestaZone', 'SubCrestaZone',\n",
    "           'make', 'Model', 'bodytype', 'Title', 'Language', 'Bank', 'AccountType', 'LegalType', 'MaritalStatus'], axis=1, inplace=True)"
   ]
  },
  {
   "cell_type": "code",
   "execution_count": 7,
   "metadata": {},
   "outputs": [],
   "source": [
    "#1.3 Encoding Categorical Data\n",
    "# Encoding Categorical Data\n",
    "categorical_features = ['Province', 'PostalCode', 'Gender', 'VehicleType', 'CoverType']\n",
    "\n"
   ]
  },
  {
   "cell_type": "code",
   "execution_count": 8,
   "metadata": {},
   "outputs": [],
   "source": [
    "# Reduce cardinality by grouping infrequent categories (if necessary)\n",
    "for feature in categorical_features:\n",
    "    top_categories = data[feature].value_counts().nlargest(10).index\n",
    "    data[feature] = np.where(data[feature].isin(top_categories), data[feature], 'Other')"
   ]
  },
  {
   "cell_type": "code",
   "execution_count": 9,
   "metadata": {},
   "outputs": [],
   "source": [
    "# One-hot encoding with memory efficiency\n",
    "data = pd.get_dummies(data, columns=categorical_features, drop_first=True)\n",
    "\n",
    "# Ensure all columns are numeric and handle non-numeric values\n",
    "data = data.apply(pd.to_numeric, errors='coerce').fillna(0)"
   ]
  },
  {
   "cell_type": "code",
   "execution_count": 10,
   "metadata": {},
   "outputs": [],
   "source": [
    "#1.4 Train-Test Split\n",
    "# Train-Test Split\n",
    "X = data.drop(['TotalPremium', 'TotalClaims'], axis=1)\n",
    "y = data['TotalPremium']\n",
    "X_train, X_test, y_train, y_test = train_test_split(X, y, test_size=0.3, random_state=42)\n",
    "\n",
    "# Feature Scaling\n",
    "scaler = StandardScaler()\n",
    "X_train = scaler.fit_transform(X_train)\n",
    "X_test = scaler.transform(X_test)"
   ]
  },
  {
   "cell_type": "code",
   "execution_count": 11,
   "metadata": {},
   "outputs": [
    {
     "name": "stdout",
     "output_type": "stream",
     "text": [
      "X_train shape: (693393, 69)\n",
      "X_test shape: (297169, 69)\n",
      "Sample feature names: Index(['TransactionMonth', 'IsVATRegistered', 'Citizenship', 'ItemType',\n",
      "       'mmcode'],\n",
      "      dtype='object')\n"
     ]
    }
   ],
   "source": [
    "# Verify the transformations\n",
    "print(f\"X_train shape: {X_train.shape}\")\n",
    "print(f\"X_test shape: {X_test.shape}\")\n",
    "print(f\"Sample feature names: {X.columns[:5]}\")"
   ]
  },
  {
   "cell_type": "code",
   "execution_count": 12,
   "metadata": {},
   "outputs": [
    {
     "name": "stdout",
     "output_type": "stream",
     "text": [
      "Linear Regression - MSE: 34337.5633913358, R2: 0.270038211581488\n"
     ]
    }
   ],
   "source": [
    "#Step 2: Modeling Techniques\n",
    "#2.1 Linear Regression\n",
    "\n",
    "from sklearn.linear_model import LinearRegression\n",
    "from sklearn.metrics import mean_squared_error, r2_score\n",
    "\n",
    "# Linear Regression Model\n",
    "lr_model = LinearRegression()\n",
    "lr_model.fit(X_train, y_train)\n",
    "y_pred_lr = lr_model.predict(X_test)\n",
    "\n",
    "# Evaluation\n",
    "mse_lr = mean_squared_error(y_test, y_pred_lr)\n",
    "r2_lr = r2_score(y_test, y_pred_lr)\n",
    "print(f\"Linear Regression - MSE: {mse_lr}, R2: {r2_lr}\")\n"
   ]
  },
  {
   "cell_type": "code",
   "execution_count": 13,
   "metadata": {},
   "outputs": [
    {
     "name": "stdout",
     "output_type": "stream",
     "text": [
      "Random Forest - MSE: 3014.1336803693066, R2: 0.9359243290859125\n"
     ]
    }
   ],
   "source": [
    "#2.2 Random Forest\n",
    "from sklearn.ensemble import RandomForestRegressor\n",
    "\n",
    "# Random Forest Model\n",
    "rf_model = RandomForestRegressor(n_estimators=100, random_state=42)\n",
    "rf_model.fit(X_train, y_train)\n",
    "y_pred_rf = rf_model.predict(X_test)\n",
    "\n",
    "# Evaluation\n",
    "mse_rf = mean_squared_error(y_test, y_pred_rf)\n",
    "r2_rf = r2_score(y_test, y_pred_rf)\n",
    "print(f\"Random Forest - MSE: {mse_rf}, R2: {r2_rf}\")\n",
    "\n"
   ]
  },
  {
   "cell_type": "code",
   "execution_count": 14,
   "metadata": {},
   "outputs": [
    {
     "name": "stdout",
     "output_type": "stream",
     "text": [
      "XGBoost - MSE: 19536.46847941468, R2: 0.584685864046667\n"
     ]
    }
   ],
   "source": [
    "#2.3 XGBoost\n",
    "import xgboost as xgb\n",
    "\n",
    "# XGBoost Model\n",
    "xgb_model = xgb.XGBRegressor(objective='reg:squarederror', n_estimators=100, random_state=42)\n",
    "xgb_model.fit(X_train, y_train)\n",
    "y_pred_xgb = xgb_model.predict(X_test)\n",
    "\n",
    "# Evaluation\n",
    "mse_xgb = mean_squared_error(y_test, y_pred_xgb)\n",
    "r2_xgb = r2_score(y_test, y_pred_xgb)\n",
    "print(f\"XGBoost - MSE: {mse_xgb}, R2: {r2_xgb}\")\n",
    "\n"
   ]
  },
  {
   "cell_type": "code",
   "execution_count": 15,
   "metadata": {},
   "outputs": [
    {
     "name": "stdout",
     "output_type": "stream",
     "text": [
      "Feature Importances for Random Forest:\n",
      "ProfitMarginRatio           0.728814\n",
      "CalculatedPremiumPerTerm    0.118814\n",
      "SumInsured                  0.092487\n",
      "TransactionMonth            0.035077\n",
      "TransactionYear             0.024431\n",
      "                              ...   \n",
      "WrittenOff                  0.000000\n",
      "NewVehicle                  0.000000\n",
      "TrackingDevice              0.000000\n",
      "AlarmImmobiliser            0.000000\n",
      "CrossBorder                 0.000000\n",
      "Length: 69, dtype: float64\n",
      "Feature Importances for XGBoost:\n",
      "Cylinders               0.412889\n",
      "SumInsured              0.186915\n",
      "ProfitMarginRatio       0.154176\n",
      "TransactionMonth        0.090620\n",
      "CoverType_Own Damage    0.079213\n",
      "                          ...   \n",
      "CoverCategory           0.000000\n",
      "CoverGroup              0.000000\n",
      "Section                 0.000000\n",
      "Product                 0.000000\n",
      "Converted               0.000000\n",
      "Length: 69, dtype: float32\n"
     ]
    }
   ],
   "source": [
    "#Step 3: Feature Importance Analysis\n",
    "# Feature Importance for Random Forest\n",
    "importances_rf = rf_model.feature_importances_\n",
    "feature_names = X.columns\n",
    "feature_importances_rf = pd.Series(importances_rf, index=feature_names).sort_values(ascending=False)\n",
    "\n",
    "print(\"Feature Importances for Random Forest:\")\n",
    "print(feature_importances_rf)\n",
    "\n",
    "# Feature Importance for XGBoost\n",
    "importances_xgb = xgb_model.feature_importances_\n",
    "feature_importances_xgb = pd.Series(importances_xgb, index=feature_names).sort_values(ascending=False)\n",
    "\n",
    "print(\"Feature Importances for XGBoost:\")\n",
    "print(feature_importances_xgb)\n",
    "\n"
   ]
  },
  {
   "cell_type": "code",
   "execution_count": 16,
   "metadata": {},
   "outputs": [
    {
     "name": "stdout",
     "output_type": "stream",
     "text": [
      "Model Comparison:\n",
      "               Model           MSE        R2\n",
      "0  Linear Regression  34337.563391  0.270038\n",
      "1      Random Forest   3014.133680  0.935924\n",
      "2            XGBoost  19536.468479  0.584686\n"
     ]
    }
   ],
   "source": [
    "#Step 4: Model Evaluation and Comparison\n",
    "# Comparison of model performance\n",
    "results = pd.DataFrame({\n",
    "    'Model': ['Linear Regression', 'Random Forest', 'XGBoost'],\n",
    "    'MSE': [mse_lr, mse_rf, mse_xgb],\n",
    "    'R2': [r2_lr, r2_rf, r2_xgb]\n",
    "})\n",
    "\n",
    "print(\"Model Comparison:\")\n",
    "print(results)\n",
    "\n"
   ]
  }
 ],
 "metadata": {
  "kernelspec": {
   "display_name": "venv",
   "language": "python",
   "name": "python3"
  },
  "language_info": {
   "codemirror_mode": {
    "name": "ipython",
    "version": 3
   },
   "file_extension": ".py",
   "mimetype": "text/x-python",
   "name": "python",
   "nbconvert_exporter": "python",
   "pygments_lexer": "ipython3",
   "version": "3.11.5"
  }
 },
 "nbformat": 4,
 "nbformat_minor": 2
}

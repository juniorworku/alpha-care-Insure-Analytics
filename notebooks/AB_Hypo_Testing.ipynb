{
 "cells": [
  {
   "cell_type": "code",
   "execution_count": 62,
   "metadata": {},
   "outputs": [],
   "source": [
    "import pandas as pd\n",
    "from scipy import stats"
   ]
  },
  {
   "cell_type": "code",
   "execution_count": 63,
   "metadata": {},
   "outputs": [],
   "source": [
    "# Define the correct column names\n",
    "column_names = ['UnderwrittenCoverID', 'PolicyID', 'TransactionMonth', 'IsVATRegistered', 'Citizenship', 'LegalType', 'Title', \n",
    "                'Language', 'Bank', 'AccountType', 'MaritalStatus', 'Gender', 'Country', 'Province', 'PostalCode', 'MainCrestaZone', \n",
    "                'SubCrestaZone', 'ItemType', 'mmcode', 'VehicleType', 'RegistrationYear', 'make', 'Model', 'Cylinders', \n",
    "                'cubiccapacity', 'kilowatts', 'bodytype', 'NumberOfDoors', 'VehicleIntroDate', 'CustomValueEstimate', 'AlarmImmobiliser', \n",
    "                'TrackingDevice', 'CapitalOutstanding', 'NewVehicle', 'WrittenOff', 'Rebuilt', 'Converted', 'CrossBorder', \n",
    "                'NumberOfVehiclesInFleet', 'SumInsured', 'TermFrequency', 'CalculatedPremiumPerTerm', 'ExcessSelected', \n",
    "                'CoverCategory', 'CoverType', 'CoverGroup', 'Section', 'Product', 'StatutoryClass', 'StatutoryRiskType', \n",
    "                'TotalPremium', 'TotalClaims']"
   ]
  },
  {
   "cell_type": "code",
   "execution_count": 64,
   "metadata": {},
   "outputs": [],
   "source": [
    "# Load the data\n",
    "data = pd.read_csv('../data/cleaned_data.csv', header=None,low_memory=False)\n"
   ]
  },
  {
   "cell_type": "code",
   "execution_count": 65,
   "metadata": {},
   "outputs": [],
   "source": [
    "# Set the column names\n",
    "data.columns = column_names"
   ]
  },
  {
   "cell_type": "code",
   "execution_count": 71,
   "metadata": {},
   "outputs": [],
   "source": [
    "# Convert TotalPremium and TotalClaims to numeric\n",
    "data['TotalPremium'] = pd.to_numeric(data['TotalPremium'], errors='coerce')\n",
    "data['TotalClaims'] = pd.to_numeric(data['TotalClaims'], errors='coerce')"
   ]
  },
  {
   "cell_type": "code",
   "execution_count": 82,
   "metadata": {},
   "outputs": [
    {
     "name": "stdout",
     "output_type": "stream",
     "text": [
      "Hypothesis 1: Test risk differences across provinces\n",
      "-----------------------------------------------------\n",
      "T-statistic: 4.6537430154774375\n",
      "P-value: 3.260368633786302e-06\n",
      "Reject Null Hypothesis: There are significant risk differences across provinces.\n"
     ]
    }
   ],
   "source": [
    "# Hypothesis 1: Test risk differences across provinces\n",
    "# Define Metrics\n",
    "# For the purpose of hypothesis testing, let's choose 'TotalPremium' as our key performance indicator (KPI).\n",
    "\n",
    "# Data Segmentation\n",
    "# Let's segment the data based on the feature we want to test. \n",
    "# For example, if we want to test the impact of provinces on TotalPremium:\n",
    "# Group A (Control Group): Plans with Province = 'Gauteng'\n",
    "control_group_province = data[data['Province'] == 'Gauteng']['TotalPremium']\n",
    "# Group B (Test Group): Plans with Province = 'Western Cape'\n",
    "test_group_province = data[data['Province'] == 'Western Cape']['TotalPremium']\n",
    "\n",
    "# Perform t-test\n",
    "t_statistic, p_value = stats.ttest_ind(control_group_province, test_group_province)\n",
    "\n",
    "# Print results\n",
    "print(\"Hypothesis 1: Test risk differences across provinces\")\n",
    "print(\"-----------------------------------------------------\")\n",
    "print(f\"T-statistic: {t_statistic}\")\n",
    "print(f\"P-value: {p_value}\")\n",
    "\n",
    "# Analyze p-value\n",
    "alpha = 0.05\n",
    "if p_value < alpha:\n",
    "    print(\"Reject Null Hypothesis: There are significant risk differences across provinces.\")\n",
    "else:\n",
    "    print(\"Fail to reject Null Hypothesis: There are no significant risk differences across provinces.\")\n"
   ]
  },
  {
   "cell_type": "code",
   "execution_count": 84,
   "metadata": {},
   "outputs": [
    {
     "name": "stdout",
     "output_type": "stream",
     "text": [
      "Hypothesis 2: There are no risk differences between zip codes\n",
      "--------------------------------------------------------------\n",
      "T-statistic: 4.496320715526884\n",
      "P-value: 6.9405225411919286e-06\n",
      "Reject Null Hypothesis: There are significant risk differences between zip codes.\n"
     ]
    }
   ],
   "source": [
    "#Hypothesis 2:\n",
    "# Define Metrics\n",
    "# For the purpose of hypothesis testing, let's choose 'TotalPremium' as our key performance indicator (KPI).\n",
    "\n",
    "# Data Segmentation\n",
    "# Let's segment the data based on the feature we want to test. \n",
    "# For example, if we want to test the impact of zip codes on TotalPremium:\n",
    "# Group A (Control Group): Plans with ZipCode = 'ZipCode_A'\n",
    "control_group_zipcode = data[data['PostalCode'] == '1459']\n",
    "# Group B (Test Group): Plans with ZipCode = 'ZipCode_B'\n",
    "test_group_zipcode = data[data['PostalCode'] == '7784']\n",
    "\n",
    "# Perform t-test\n",
    "t_statistic, p_value = stats.ttest_ind(control_group_zipcode['TotalPremium'], test_group_zipcode['TotalPremium'])\n",
    "\n",
    "# Print results\n",
    "print(\"Hypothesis 2: There are no risk differences between zip codes\")\n",
    "print(\"--------------------------------------------------------------\")\n",
    "print(f\"T-statistic: {t_statistic}\")\n",
    "print(f\"P-value: {p_value}\")\n",
    "\n",
    "# Analyze p-value\n",
    "if p_value < alpha:\n",
    "    print(\"Reject Null Hypothesis: There are significant risk differences between zip codes.\")\n",
    "else:\n",
    "    print(\"Fail to reject Null Hypothesis: There are no significant risk differences between zip codes.\")\n"
   ]
  },
  {
   "cell_type": "code",
   "execution_count": 86,
   "metadata": {},
   "outputs": [
    {
     "name": "stdout",
     "output_type": "stream",
     "text": [
      "Hypothesis 2: Test significant margin (profit) difference between zip codes\n",
      "------------------------------------------------------------------------------\n",
      "T-statistic: 0.7861667534417327\n",
      "P-value: 0.43177617933297485\n",
      "Fail to reject Null Hypothesis: There are no significant margin (profit) differences between zip codes.\n"
     ]
    }
   ],
   "source": [
    "#Hypothesis 3: Test significant margin (profit) difference between zip codes\n",
    "# For the purpose of hypothesis testing, let's choose 'ProfitMargin' as our key performance indicator (KPI).\n",
    "data['ProfitMargin'] = data['TotalPremium'] - data['TotalClaims']\n",
    "\n",
    "# Data Segmentation\n",
    "# Let's segment the data based on the feature we want to test. \n",
    "# For example, if we want to test the impact of zip codes on ProfitMargin:\n",
    "# Group A (Control Group): Plans with ZipCode = 'ZipCode_A'\n",
    "control_group_zipcode = data[data['PostalCode'] == '1459']\n",
    "# Group B (Test Group): Plans with ZipCode = 'ZipCode_B'\n",
    "test_group_zipcode = data[data['PostalCode'] == '7784']\n",
    "\n",
    "# Perform t-test\n",
    "t_statistic, p_value = stats.ttest_ind(control_group_zipcode['ProfitMargin'], test_group_zipcode['ProfitMargin'])\n",
    "\n",
    "# Print results\n",
    "print(\"Hypothesis 2: Test significant margin (profit) difference between zip codes\")\n",
    "print(\"------------------------------------------------------------------------------\")\n",
    "print(f\"T-statistic: {t_statistic}\")\n",
    "print(f\"P-value: {p_value}\")\n",
    "\n",
    "# Analyze p-value\n",
    "if p_value < alpha:\n",
    "    print(\"Reject Null Hypothesis: There are significant margin (profit) differences between zip codes.\")\n",
    "else:\n",
    "    print(\"Fail to reject Null Hypothesis: There are no significant margin (profit) differences between zip codes.\")"
   ]
  },
  {
   "cell_type": "code",
   "execution_count": 87,
   "metadata": {},
   "outputs": [
    {
     "name": "stdout",
     "output_type": "stream",
     "text": [
      "Hypothesis 4: Test significant risk differences between Women and Men\n",
      "-----------------------------------------------------------------------\n",
      "T-statistic: -5.118420932688848\n",
      "P-value: 3.0925282750010697e-07\n",
      "Reject Null Hypothesis: There are significant risk differences between Women and Men.\n"
     ]
    }
   ],
   "source": [
    "#Hypothesis 4: Test significant margin (profit) differences between zip codes\n",
    "# Let's segment the data based on the feature we want to test. \n",
    "# For example, if we want to test the impact of Gender on TotalPremium:\n",
    "# Group A (Control Group): Plans with Gender = 'Male'\n",
    "control_group_gender = data[data['Gender'] == 'Male']\n",
    "# Group B (Test Group): Plans with Gender = 'Female'\n",
    "test_group_gender = data[data['Gender'] == 'Female']\n",
    "\n",
    "# Perform t-test\n",
    "t_statistic, p_value = stats.ttest_ind(control_group_gender['TotalPremium'], test_group_gender['TotalPremium'])\n",
    "\n",
    "# Print results\n",
    "print(\"Hypothesis 4: Test significant risk differences between Women and Men\")\n",
    "print(\"-----------------------------------------------------------------------\")\n",
    "print(f\"T-statistic: {t_statistic}\")\n",
    "print(f\"P-value: {p_value}\")\n",
    "\n",
    "# Analyze p-value\n",
    "if p_value < alpha:\n",
    "    print(\"Reject Null Hypothesis: There are significant risk differences between Women and Men.\")\n",
    "else:\n",
    "    print(\"Fail to reject Null Hypothesis: There are no significant risk differences between Women and Men.\")"
   ]
  }
 ],
 "metadata": {
  "kernelspec": {
   "display_name": "venv",
   "language": "python",
   "name": "python3"
  },
  "language_info": {
   "codemirror_mode": {
    "name": "ipython",
    "version": 3
   },
   "file_extension": ".py",
   "mimetype": "text/x-python",
   "name": "python",
   "nbconvert_exporter": "python",
   "pygments_lexer": "ipython3",
   "version": "3.11.5"
  }
 },
 "nbformat": 4,
 "nbformat_minor": 2
}

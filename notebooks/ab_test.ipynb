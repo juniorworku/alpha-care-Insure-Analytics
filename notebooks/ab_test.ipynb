{
 "cells": [
  {
   "cell_type": "code",
   "execution_count": 41,
   "metadata": {},
   "outputs": [],
   "source": [
    "# Import necessary libraries\n",
    "import pandas as pd\n",
    "from scipy import stats"
   ]
  },
  {
   "cell_type": "code",
   "execution_count": 42,
   "metadata": {},
   "outputs": [],
   "source": [
    "# Define the correct column names\n",
    "column_names = ['UnderwrittenCoverID', 'PolicyID', 'TransactionMonth', 'IsVATRegistered', 'Citizenship', 'LegalType', 'Title', \n",
    "                'Language', 'Bank', 'AccountType', 'MaritalStatus', 'Gender', 'Country', 'Province', 'PostalCode', 'MainCrestaZone', \n",
    "                'SubCrestaZone', 'ItemType', 'mmcode', 'VehicleType', 'RegistrationYear', 'make', 'Model', 'Cylinders', \n",
    "                'cubiccapacity', 'kilowatts', 'bodytype', 'NumberOfDoors', 'VehicleIntroDate', 'CustomValueEstimate', 'AlarmImmobiliser', \n",
    "                'TrackingDevice', 'CapitalOutstanding', 'NewVehicle', 'WrittenOff', 'Rebuilt', 'Converted', 'CrossBorder', \n",
    "                'NumberOfVehiclesInFleet', 'SumInsured', 'TermFrequency', 'CalculatedPremiumPerTerm', 'ExcessSelected', \n",
    "                'CoverCategory', 'CoverType', 'CoverGroup', 'Section', 'Product', 'StatutoryClass', 'StatutoryRiskType', \n",
    "                'TotalPremium', 'TotalClaims']"
   ]
  },
  {
   "cell_type": "code",
   "execution_count": 43,
   "metadata": {},
   "outputs": [],
   "source": [
    "# Load the data\n",
    "data = pd.read_csv('../data/cleaned_data.csv', header=None,low_memory=False)\n"
   ]
  },
  {
   "cell_type": "code",
   "execution_count": 44,
   "metadata": {},
   "outputs": [],
   "source": [
    "# Set the column names\n",
    "data.columns = column_names"
   ]
  },
  {
   "cell_type": "code",
   "execution_count": 45,
   "metadata": {},
   "outputs": [],
   "source": [
    "# Convert TotalPremium and TotalClaims to numeric\n",
    "data['TotalPremium'] = pd.to_numeric(data['TotalPremium'], errors='coerce')\n",
    "data['TotalClaims'] = pd.to_numeric(data['TotalClaims'], errors='coerce')"
   ]
  },
  {
   "cell_type": "code",
   "execution_count": 46,
   "metadata": {},
   "outputs": [
    {
     "name": "stdout",
     "output_type": "stream",
     "text": [
      "Index(['UnderwrittenCoverID', 'PolicyID', 'TransactionMonth',\n",
      "       'IsVATRegistered', 'Citizenship', 'LegalType', 'Title', 'Language',\n",
      "       'Bank', 'AccountType', 'MaritalStatus', 'Gender', 'Country', 'Province',\n",
      "       'PostalCode', 'MainCrestaZone', 'SubCrestaZone', 'ItemType', 'mmcode',\n",
      "       'VehicleType', 'RegistrationYear', 'make', 'Model', 'Cylinders',\n",
      "       'cubiccapacity', 'kilowatts', 'bodytype', 'NumberOfDoors',\n",
      "       'VehicleIntroDate', 'CustomValueEstimate', 'AlarmImmobiliser',\n",
      "       'TrackingDevice', 'CapitalOutstanding', 'NewVehicle', 'WrittenOff',\n",
      "       'Rebuilt', 'Converted', 'CrossBorder', 'NumberOfVehiclesInFleet',\n",
      "       'SumInsured', 'TermFrequency', 'CalculatedPremiumPerTerm',\n",
      "       'ExcessSelected', 'CoverCategory', 'CoverType', 'CoverGroup', 'Section',\n",
      "       'Product', 'StatutoryClass', 'StatutoryRiskType', 'TotalPremium',\n",
      "       'TotalClaims'],\n",
      "      dtype='object')\n"
     ]
    }
   ],
   "source": [
    "# Verify the column names\n",
    "print(data.columns)"
   ]
  },
  {
   "cell_type": "code",
   "execution_count": 32,
   "metadata": {},
   "outputs": [],
   "source": [
    "# Define functions for statistical tests\n",
    "# Define the chi-squared test function\n",
    "def chi_squared_test(data, col1, col2):\n",
    "    contingency_table = pd.crosstab(data[col1], data[col2])\n",
    "    chi2, p, dof, expected = stats.chi2_contingency(contingency_table)\n",
    "    return chi2, p\n",
    "\n",
    "# Define the t-test function\n",
    "def t_test(data, group_col, value_col):\n",
    "    group_a = data[data[group_col] == data[group_col].unique()[0]][value_col]\n",
    "    group_b = data[data[group_col] == data[group_col].unique()[1]][value_col]\n",
    "    t_stat, p = stats.ttest_ind(group_a, group_b, nan_policy='omit')\n",
    "    return t_stat, p"
   ]
  },
  {
   "cell_type": "code",
   "execution_count": 33,
   "metadata": {},
   "outputs": [
    {
     "name": "stdout",
     "output_type": "stream",
     "text": [
      "Testing risk differences across provinces...\n",
      "Chi-squared test: chi2=10722.684705166641, p-value=1.0\n"
     ]
    }
   ],
   "source": [
    "# Null Hypothesis 1: There are no risk differences across provinces\n",
    "print(\"Testing risk differences across provinces...\")\n",
    "chi2, p = chi_squared_test(data, 'Province', 'TotalClaims')\n",
    "print(f\"Chi-squared test: chi2={chi2}, p-value={p}\")"
   ]
  },
  {
   "cell_type": "code",
   "execution_count": 34,
   "metadata": {},
   "outputs": [
    {
     "name": "stdout",
     "output_type": "stream",
     "text": [
      "Testing risk differences between zip codes...\n",
      "Chi-squared test: chi2=1214174.4063742857, p-value=1.0\n"
     ]
    }
   ],
   "source": [
    "# Null Hypothesis 2: There are no risk differences between zip codes\n",
    "print(\"Testing risk differences between zip codes...\")\n",
    "chi2, p = chi_squared_test(data, 'PostalCode', 'TotalClaims')\n",
    "print(f\"Chi-squared test: chi2={chi2}, p-value={p}\")"
   ]
  },
  {
   "cell_type": "code",
   "execution_count": 35,
   "metadata": {},
   "outputs": [
    {
     "name": "stdout",
     "output_type": "stream",
     "text": [
      "Testing profit margin differences between zip codes...\n",
      "T-test: t_stat=nan, p-value=nan\n"
     ]
    }
   ],
   "source": [
    "# Null Hypothesis 3: There are no significant margin (profit) differences between zip codes\n",
    "print(\"Testing profit margin differences between zip codes...\")\n",
    "data['ProfitMargin'] = data['TotalPremium'] - data['TotalClaims']\n",
    "t_stat, p = t_test(data, 'PostalCode', 'ProfitMargin')\n",
    "print(f\"T-test: t_stat={t_stat}, p-value={p}\")"
   ]
  },
  {
   "cell_type": "code",
   "execution_count": 37,
   "metadata": {},
   "outputs": [
    {
     "name": "stdout",
     "output_type": "stream",
     "text": [
      "Testing risk differences between Women and Men...\n",
      "Chi-squared test: chi2=2534.8814995125476, p-value=1.0\n"
     ]
    }
   ],
   "source": [
    "# Null Hypothesis 4: There are no significant risk differences between Women and Men\n",
    "print(\"Testing risk differences between Women and Men...\")\n",
    "chi2, p = chi_squared_test(data, 'Gender', 'TotalClaims')\n",
    "print(f\"Chi-squared test: chi2={chi2}, p-value={p}\")"
   ]
  },
  {
   "cell_type": "code",
   "execution_count": 38,
   "metadata": {},
   "outputs": [],
   "source": [
    "# Analyze and report results\n",
    "def analyze_results(p_value, alpha=0.05):\n",
    "    if p_value < alpha:\n",
    "        return \"Reject the null hypothesis\"\n",
    "    else:\n",
    "        return \"Fail to reject the null hypothesis\"\n"
   ]
  },
  {
   "cell_type": "code",
   "execution_count": 39,
   "metadata": {},
   "outputs": [
    {
     "name": "stdout",
     "output_type": "stream",
     "text": [
      "Results:\n",
      "Risk differences across provinces: Fail to reject the null hypothesis\n",
      "Risk differences between zip codes: Fail to reject the null hypothesis\n",
      "Profit margin differences between zip codes: Fail to reject the null hypothesis\n",
      "Risk differences between Women and Men: Fail to reject the null hypothesis\n"
     ]
    }
   ],
   "source": [
    "# Analyzing and reporting\n",
    "print(\"Results:\")\n",
    "print(\"Risk differences across provinces:\", analyze_results(p))\n",
    "print(\"Risk differences between zip codes:\", analyze_results(p))\n",
    "print(\"Profit margin differences between zip codes:\", analyze_results(p))\n",
    "print(\"Risk differences between Women and Men:\", analyze_results(p))"
   ]
  }
 ],
 "metadata": {
  "kernelspec": {
   "display_name": "venv",
   "language": "python",
   "name": "python3"
  },
  "language_info": {
   "codemirror_mode": {
    "name": "ipython",
    "version": 3
   },
   "file_extension": ".py",
   "mimetype": "text/x-python",
   "name": "python",
   "nbconvert_exporter": "python",
   "pygments_lexer": "ipython3",
   "version": "3.11.5"
  }
 },
 "nbformat": 4,
 "nbformat_minor": 2
}
